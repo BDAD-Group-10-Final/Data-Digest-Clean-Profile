﻿{
  "metadata": {
    "name": "Funding Data Ingest",
    "kernelspec": {
      "language": "scala",
      "name": "spark2-scala"
    },
    "language_info": {
      "codemirror_mode": "text/x-scala",
      "file_extension": ".scala",
      "mimetype": "text/x-scala",
      "name": "scala",
      "pygments_lexer": "scala"
    }
  },
  "nbformat": 4,
  "nbformat_minor": 2,
  "cells": [
    {
      "cell_type": "code",
      "execution_count": 0,
      "metadata": {
        "autoscroll": "auto"
      },
      "outputs": [],
      "source": "val root_folder \u003d \"/user/yl12043_nyu_edu/schools-funding/\"\nvar totalyears \u003d 2017 to 2022\nvar newformatyears \u003d 2019 to 2022\nval prefixes: List[String] \u003d List(\"B\", \"C\", \"D\", \"E\")\nval colNames: List[String] \u003d List(\"K-12 Enrollment\", \"Pre-K Enrollment\", \"Classroom Teachers w/ 0-3 Years Experience\", \"Classroom Teachers w/ More than 3 Years Experience\", \"Paraprofessional Classroom Staff\", \"Principals \u0026 Other Admin Staff\", \"Pupil Support Services Staff\", \"All Remaining Staff\", \"Total Staff\", \"Classroom Teacher Salaries\", \"All Other Salaries\", \"Employee Benefits\", \"BOCES Services\", \"All Other\", \"General Ed K-12\", \"Pre-K\", \"Preschool\", \"School Administration\", \"Instructional Media\", \"Pupil Support Services\", \"State \u0026 Local Funding\", \"Federal Funding\", \"Total Funding\", \"State \u0026 Local Funding per Pupil\", \"Federal Funding per Pupil\", \"Total Funding per Pupil\")\nval outputpathstart \u003d \"schools-funding/\"\nval outputpathend \u003d \"-schools-funding-clean.parquet\"\nval year2022Df \u003d spark.read.option(\"header\", \"true\")\n        .option(\"multiLine\", \"true\")\n        .option(\"inferSchema\", \"true\")\n        .option(\"escape\", \"\\\"\")\n        .csv(root_folder + 2021 + \"-\" + 2022 + \"-schools-funding.csv\")\nvar districtCodeDf \u003d year2022Df.select(\"School District BEDS Code\", \"School BEDS Code\")\ndistrictCodeDf \u003d districtCodeDf.withColumnRenamed(\"School BEDS Code\", \"School_BEDS_Code\").withColumnRenamed(\"School District BEDS Code\", \"District_BEDS_Code\")\n\nfor (cur \u003c- totalyears){\n    val next \u003d cur + 1\n    \n    var originalDf \u003d spark.read.option(\"header\", \"true\")\n        .option(\"multiLine\", \"true\")\n        .option(\"inferSchema\", \"true\")\n        .option(\"escape\", \"\\\"\")\n        .csv(root_folder + cur + \"-\" + next + \"-schools-funding.csv\")\n    \n    \n    if (newformatyears.contains(cur)) {\n        val trimmedDf \u003d originalDf.withColumnRenamed(\"(Part D) All Other\", \"Other\").withColumnRenamed(\"(Part D) All Other\", \"F1\").withColumnRenamed(\"(Part D) Federal Funding\", \"F2\")\n        originalDf \u003d trimmedDf\n        for (p \u003c- prefixes){\n            var prefix \u003d \"(Part \" + p + \") \"\n            val renamedDf \u003d originalDf.columns.foldLeft(originalDf) { (df, c) \u003d\u003e\n                if (c.startsWith(prefix)) df.withColumnRenamed(c, c.substring(prefix.length, c.length)) else df}\n            originalDf \u003d renamedDf\n        }\n    }\n    else {\n        val prefix \u003d \" \"\n        val removespaceDf \u003d originalDf.withColumnRenamed(\" All Other  \", \"Other\").withColumnRenamed(\" Federal Funding  \", \"F1\").withColumnRenamed(\" Federal Funding   \", \"F2\").columns.foldLeft(originalDf) { (df, c) \u003d\u003e\n            df.withColumnRenamed(c, c.trim())}\n        val renamedDf \u003d removespaceDf.withColumnRenamed(\"BEDS Code\", \"School BEDS Code\").withColumnRenamed(\"Classroom Teachers\", \"Classroom Teacher Salaries\").withColumnRenamed(\"Grades K-12\", \"General Ed K-12\")\n        val cleanedDf \u003d renamedDf.filter($\"School BEDS Code\" \u003d!\u003d \"(blank)\")\n        originalDf \u003d cleanedDf\n    }\n    \n    originalDf \u003d originalDf.filter($\"School BEDS Code\".isNotNull)\n    \n    var prefix \u003d cur + \"-\" + (next - 2000).toString\n    val year: String \u003d next.toString\n    originalDf \u003d originalDf.withColumn(\"Year\", regexp_replace($\"School Year\", prefix, year).cast(\"Int\"))\n    originalDf \u003d originalDf.withColumnRenamed(\"Total Funding Source by School\", \"Total Funding\").withColumnRenamed(\"Total School Funding per Pupil\", \"Total Funding per Pupil\")\n\n    var filteredDf \u003d originalDf.select(\n        \"Year\",\n        \"School District\",\n        \"School BEDS Code\",\n        \"School Name\",\n        \"School Type\",\n        \"K-12 Enrollment\",\n        \"Pre-K Enrollment\",\n        \"Classroom Teachers w/ 0-3 Years Experience\",\n        \"Classroom Teachers w/ More than 3 Years Experience\",\n        \"Paraprofessional Classroom Staff\",\n        \"Principals \u0026 Other Admin Staff\",\n        \"Pupil Support Services Staff\",\n        \"All Remaining Staff\",\n        \"Total Staff\",\n        \"Classroom Teacher Salaries\",\n        \"All Other Salaries\",\n        \"Employee Benefits\",\n        \"BOCES Services\",\n        \"All Other\",\n        \"General Ed K-12\",\n        \"Pre-K\",\n        \"Preschool\",\n        \"School Administration\",\n        \"Instructional Media\",\n        \"Pupil Support Services\",\n        \"State \u0026 Local Funding\",\n        \"Federal Funding\",\n        \"Total Funding\",\n        \"State \u0026 Local Funding per Pupil\",\n        \"Federal Funding per Pupil\",\n        \"Total Funding per Pupil\")\n    \n    for (c \u003c- colNames) {\n        filteredDf \u003d filteredDf.withColumn(c, regexp_replace(filteredDf(c), \"\\\\,\", \"\"))\n        filteredDf \u003d filteredDf.withColumn(c, trim(filteredDf(c)))\n        filteredDf \u003d filteredDf.withColumn(c, regexp_replace(filteredDf(c), \"-\", \"\"))\n        filteredDf \u003d filteredDf.withColumn(c, regexp_replace(filteredDf(c), \" \", \"\"))\n        filteredDf \u003d filteredDf.withColumn(c, when(col(c) \u003d!\u003d \"\", col(c)).otherwise(0))\n        filteredDf \u003d filteredDf.withColumn(c, col(c).cast(\"decimal(20,2)\"))\n    }\n    filteredDf.na.fill(0)\n    \n    filteredDf.printSchema\n    \n    var newDf \u003d filteredDf.columns.foldLeft(filteredDf) { (df, c) \u003d\u003e\n                df.withColumnRenamed(c, c.replaceAll(\"\\\\s\", \"_\"))}\n    newDf \u003d newDf.join(districtCodeDf, \"School_BEDS_Code\")\n    \n    newDf \u003d newDf.withColumn(\"Total_Enrollment\", newDf(\"K-12_Enrollment\") + newDf(\"Pre-K\"))\n    newDf \u003d newDf.withColumn(\"Total_Teachers\", newDf(\"Classroom_Teachers_w/_0-3_Years_Experience\") + newDf(\"Classroom_Teachers_w/_More_than_3_Years_Experience\"))\n    newDf \u003d newDf.withColumn(\"Teacher_per_Pupil\", (newDf(\"Total_Teachers\") / newDf(\"Total_Enrollment\")).cast(\"decimal(20,2)\"))\n    newDf \u003d newDf.withColumn(\"Staff_per_Pupil\", (newDf(\"Total_Staff\") / newDf(\"Total_Enrollment\")).cast(\"decimal(20,2)\"))\n    \n    /*\n    filteredDf.printSchema\n    z.show(filteredDf.limit(5))\n    */\n    z.show(newDf.summary())\n    \n    \n    val outputpath \u003d outputpathstart + cur + \"-\" + next + outputpathend\n    newDf.write.mode(\"overwrite\").parquet(outputpath)\n}"
    },
    {
      "cell_type": "code",
      "execution_count": 1,
      "metadata": {
        "autoscroll": "auto"
      },
      "outputs": [],
      "source": "var totalDf \u003d spark.read.parquet(\"schools-funding/2017-2018-schools-funding-clean.parquet\")\nval years \u003d 2018 to 2022\nfor (cur \u003c- years){\n    val next \u003d cur + 1\n    val readPath \u003d outputpathstart + cur + \"-\" + next + outputpathend\n    val df \u003d spark.read.parquet(readPath)\n    totalDf \u003d totalDf.union(df)\n}\ntotalDf.printSchema\nz.show(totalDf.limit(5))\ntotalDf.write.mode(\"overwrite\").parquet(\"schools-funding/2017-2023-schools-funding-clean.parquet\")"
    },
    {
      "cell_type": "code",
      "execution_count": 2,
      "metadata": {
        "autoscroll": "auto"
      },
      "outputs": [],
      "source": "Total Means \u0026 Standard Deviations"
    },
    {
      "cell_type": "code",
      "execution_count": 3,
      "metadata": {
        "autoscroll": "auto"
      },
      "outputs": [],
      "source": "var df \u003d spark.read.parquet(\"schools-funding/2017-2023-schools-funding-clean.parquet\")\n\nval TotalFunding \u003d df.groupBy(\"Year\").agg(mean(\"Total_Funding\").cast(\"decimal(20,2)\").alias(\"Average_Total_Funding\"),\n                                                    stddev(\"Total_Funding\").cast(\"decimal(20,2)\").alias(\"Standard_Deviation_Total_Funding\"))\nval PupilTotalFunding \u003d df.groupBy(\"Year\").agg(mean(\"Total_Funding_per_Pupil\").cast(\"decimal(20,2)\").alias(\"Average_Total_Funding_per_Pupil\"),\n                                                    stddev(\"Total_Funding_per_Pupil\").cast(\"decimal(20,2)\").alias(\"Standard_Deviation_Total_Funding_per_Pupil\"))\nval TotalStaff \u003d df.groupBy(\"Year\").agg(mean(\"Total_Staff\").cast(\"decimal(20,2)\").alias(\"Average_Total_Staff\"),\n                                                    stddev(\"Total_Staff\").cast(\"decimal(20,2)\").alias(\"Standard_Deviation_Total_Staff\"))\nval StateLocalFunding \u003d df.groupBy(\"Year\").agg(mean(\"State_\u0026_Local_Funding\").cast(\"decimal(20,2)\").alias(\"Average_State_\u0026_Local_Funding\"),\n                                                    stddev(\"State_\u0026_Local_Funding\").cast(\"decimal(20,2)\").alias(\"Standard_Deviation_State_\u0026_Local_Funding\"))\nval PupilStateLocalFunding \u003d df.groupBy(\"Year\").agg(mean(\"State_\u0026_Local_Funding_per_Pupil\").cast(\"decimal(20,2)\").alias(\"Average_State_\u0026_Local_Funding_per_Pupil\"),\n                                                    stddev(\"State_\u0026_Local_Funding_per_Pupil\").cast(\"decimal(20,2)\").alias(\"Standard_Deviation_State_\u0026_Local_Funding_per_Pupil\"))\nval FederalFunding \u003d df.groupBy(\"Year\").agg(mean(\"Federal_Funding\").cast(\"decimal(20,2)\").alias(\"Average_Federal_Funding\"),\n                                                    stddev(\"Federal_Funding\").cast(\"decimal(20,2)\").alias(\"Standard_Deviation_Federal_Funding\"))\nval PupilFederalFunding \u003d df.groupBy(\"Year\").agg(mean(\"Federal_Funding_per_Pupil\").cast(\"decimal(20,2)\").alias(\"Average_Federal_Funding_per_Pupil\"),\n                                                    stddev(\"Federal_Funding_per_Pupil\").cast(\"decimal(20,2)\").alias(\"Standard_Deviation_Federal_Funding_per_Pupil\"))\nval TotalEnrollment \u003d df.groupBy(\"Year\").agg(mean(\"Total_Enrollment\").cast(\"decimal(20,2)\").alias(\"Average_Total_Enrollment\"),\n                                                    stddev(\"Total_Enrollment\").cast(\"decimal(20,2)\").alias(\"Standard_Deviation_Total_Enrollment\"))\nval TeacherPerPupil \u003d df.groupBy(\"Year\").agg(mean(\"Teacher_per_Pupil\").cast(\"decimal(20,2)\").alias(\"Average_Teacher_per_Pupil\"),\n                                                    stddev(\"Teacher_per_Pupil\").cast(\"decimal(20,2)\").alias(\"Standard_Deviation_Teacher_per_Pupil\"))\nval StaffPerPupil \u003d df.groupBy(\"Year\").agg(mean(\"Staff_per_Pupil\").cast(\"decimal(20,2)\").alias(\"Average_Staff_per_Pupil\"),\n                                                    stddev(\"Staff_per_Pupil\").cast(\"decimal(20,2)\").alias(\"Standard_Deviation_Staff_per_Pupil\"))\nz.show(TotalFunding)\nz.show(PupilTotalFunding)\nz.show(TotalStaff)\nz.show(StateLocalFunding)\nz.show(PupilStateLocalFunding)\nz.show(FederalFunding)\nz.show(PupilFederalFunding)\nz.show(TotalEnrollment)\nz.show(TeacherPerPupil)\nz.show(StaffPerPupil)"
    },
    {
      "cell_type": "code",
      "execution_count": 4,
      "metadata": {
        "autoscroll": "auto"
      },
      "outputs": [],
      "source": "var df \u003d spark.read.parquet(\"schools-funding/2017-2023-schools-funding-clean.parquet\")\ndf \u003d df.select(\n    \"Year\",\n    \"School_BEDS_Code\",\n    \"District_BEDS_Code\",\n    \"School_Type\",\n    \"Total_Enrollment\",\n    \"Total_Teachers\",\n    \"Teacher_per_Pupil\",\n    \"Total_Staff\",\n    \"Staff_per_Pupil\",\n    \"Total_Funding\",\n    \"Total_Funding_per_Pupil\",\n    \"Federal_Funding\",\n    \"Federal_Funding_per_Pupil\",\n    \"State_\u0026_Local_Funding\",\n    \"State_\u0026_Local_Funding_per_Pupil\"\n    )\nz.show(df.limit(5))\ndf.write.mode(\"overwrite\").parquet(\"schools-funding/2018-2023-schools-funding-processed.parquet\")\ndf.write.mode(\"overwrite\").csv(\"schools-funding/2018-2023-schools-funding-processed.csv\")\n"
    },
    {
      "cell_type": "code",
      "execution_count": 5,
      "metadata": {
        "autoscroll": "auto"
      },
      "outputs": [],
      "source": "var df \u003d spark.read.parquet(\"/user/yx3494_nyu_edu/scr_data/funding_safety_nrc_inexp.parquet\")\nz.show(df.limit(5))\nz.show(df.groupBy(\"Year\").count())\n"
    }
  ]
}