﻿{
  "metadata": {
    "name": "Funding Analysis",
    "kernelspec": {
      "language": "scala",
      "name": "spark2-scala"
    },
    "language_info": {
      "codemirror_mode": "text/x-scala",
      "file_extension": ".scala",
      "mimetype": "text/x-scala",
      "name": "scala",
      "pygments_lexer": "scala"
    }
  },
  "nbformat": 4,
  "nbformat_minor": 2,
  "cells": [
    {
      "cell_type": "code",
      "execution_count": 0,
      "metadata": {
        "autoscroll": "auto"
      },
      "outputs": [],
      "source": "var df \u003d spark.read.parquet(\"/user/yx3494_nyu_edu/scr_data/funding_safety_nrc_inexp.parquet\")\nval cols: List[String] \u003d List(\"N/RC_Index_Description\", \"N/RC_Index\")\ndf \u003d df.filter(df(\"N/RC_Index_Description\").isNotNull)\ndf \u003d df.withColumn(\"N/RC_Index\", \n    when(df(\"N/RC_Index\") \u003d\u003d\u003d 2, 1)\n    .when(df(\"N/RC_Index\") \u003d\u003d\u003d 3, 1)\n    .when(df(\"N/RC_Index\") \u003d\u003d\u003d 4, 1)\n    .when(df(\"N/RC_Index\") \u003d\u003d\u003d 5, 2)\n    .when(df(\"N/RC_Index\") \u003d\u003d\u003d 6, 2)\n   .otherwise(df(\"N/RC_Index\")))\n\ndf \u003d df.withColumn(\"N/RC_Index_Description\", \n    when(df(\"N/RC_Index\") \u003d\u003d\u003d 1, \"High (1-4)\")\n    .when(df(\"N/RC_Index\") \u003d\u003d\u003d 2, \"Low (5-6)\")\n   .otherwise(df(\"N/RC_Index\")))\n\ndf \u003d df.withColumn(\"County_Name\", \n    when(df(\"County_Name\") \u003d\u003d\u003d \"BRONX\", \"NYC\")\n    .when(df(\"County_Name\") \u003d\u003d\u003d \"BROOKLYN\", \"NYC\")\n    .when(df(\"County_Name\") \u003d\u003d\u003d \"NEW YORK\", \"NYC\")\n    .when(df(\"County_Name\") \u003d\u003d\u003d \"NYC CENTRAL OFFICE\", \"NYC\")\n    .when(df(\"County_Name\") \u003d\u003d\u003d \"RICHMOND\", \"NYC\")\n    .when(df(\"County_Name\") \u003d\u003d\u003d \"QUEENS\", \"NYC\")\n    .when(df(\"County_Name\") \u003d\u003d\u003d \"ALBANY\", \"ALBANY\")\n   .otherwise(\"Non-NYC\"))\n\ndf \u003d df.select(\n    \"School_BEDS_Code\",\n    \"Year\",\n    \"School_Name\",\n    \"County_Name\",\n    \"N/RC_Index\",\n    \"N/RC_Index_Description\",\n    \"Total_Enrollment\",\n    \"Total_Funding\",\n    \"Total_Funding_per_Pupil\",\n    \"Federal_Funding\",\n    \"Federal_Funding_per_Pupil\",\n    \"State_\u0026_Local_Funding\",\n    \"State_\u0026_Local_Funding_per_Pupil\",\n    \"Total_Teachers\",\n    \"Teacher_per_Pupil\",\n    \"Total_Staff\",\n    \"Staff_per_Pupil\"\n    )\n\ndf.printSchema\nz.show(df.groupBy(\"County_Name\").count)\n\n"
    },
    {
      "cell_type": "code",
      "execution_count": 1,
      "metadata": {
        "autoscroll": "auto"
      },
      "outputs": [],
      "source": "var groupedDf \u003d df.groupBy(\"N/RC_Index_Description\").agg(sum(\"Total_Enrollment\").alias(\"Total_Enrollment\"))\nz.show(groupedDf)\n"
    },
    {
      "cell_type": "code",
      "execution_count": 2,
      "metadata": {
        "autoscroll": "auto"
      },
      "outputs": [],
      "source": "var groupedDf \u003d df.groupBy(\"Year\", \"N/RC_Index_Description\").agg(avg(\"Total_Funding_per_Pupil\").alias(\"Total_Funding_per_Pupil\"), stddev(\"Total_Funding_per_Pupil\").alias(\"Stddev_Funding_per_Pupil\"))\nz.show(groupedDf)"
    },
    {
      "cell_type": "code",
      "execution_count": 3,
      "metadata": {
        "autoscroll": "auto"
      },
      "outputs": [],
      "source": "var groupedDf \u003d df.groupBy(\"Year\", \"N/RC_Index_Description\").agg(avg(\"Teacher_per_Pupil\").alias(\"Teacher_per_Pupil\"), stddev(\"Teacher_per_Pupil\").alias(\"Stddev_Teacher_per_Pupil\"))\nz.show(groupedDf)"
    },
    {
      "cell_type": "code",
      "execution_count": 4,
      "metadata": {
        "autoscroll": "auto"
      },
      "outputs": [],
      "source": "var groupedDf \u003d df.groupBy(\"Year\", \"N/RC_Index_Description\").agg(avg(\"Staff_per_Pupil\").alias(\"Staff_per_Pupil\"))\nz.show(groupedDf)"
    },
    {
      "cell_type": "code",
      "execution_count": 5,
      "metadata": {
        "autoscroll": "auto"
      },
      "outputs": [],
      "source": "var groupedDf \u003d df.groupBy(\"Year\", \"County_Name\").agg(avg(\"Total_Funding\").alias(\"Total_Funding\"))\nz.show(groupedDf)"
    },
    {
      "cell_type": "code",
      "execution_count": 6,
      "metadata": {
        "autoscroll": "auto"
      },
      "outputs": [],
      "source": "var groupedDf \u003d df.groupBy(\"Year\", \"County_Name\").agg(avg(\"Total_Enrollment\").alias(\"Total_Enrollment\"))\nz.show(groupedDf)"
    },
    {
      "cell_type": "code",
      "execution_count": 7,
      "metadata": {
        "autoscroll": "auto"
      },
      "outputs": [],
      "source": "var groupedDf \u003d df.groupBy(\"Year\", \"County_Name\").agg(avg(\"Total_Funding_per_Pupil\").alias(\"Total_Funding_per_Pupil\"))\nz.show(groupedDf)"
    },
    {
      "cell_type": "code",
      "execution_count": 8,
      "metadata": {
        "autoscroll": "auto"
      },
      "outputs": [],
      "source": "var groupedDf \u003d df.groupBy(\"Year\").agg(avg(\"Total_Funding\").alias(\"Total_Funding\"))\nz.show(groupedDf)"
    },
    {
      "cell_type": "code",
      "execution_count": 9,
      "metadata": {
        "autoscroll": "auto"
      },
      "outputs": [],
      "source": "var groupedDf \u003d df.groupBy(\"Year\").agg(avg(\"Total_Funding_per_Pupil\").alias(\"Total_Funding_per_Pupil\"))\nz.show(groupedDf)"
    },
    {
      "cell_type": "code",
      "execution_count": 10,
      "metadata": {
        "autoscroll": "auto"
      },
      "outputs": [],
      "source": "var groupedDf \u003d df.groupBy(\"Year\").agg(avg(\"State_\u0026_Local_Funding\").alias(\"State_\u0026_Local_Funding\"), avg(\"Federal_Funding\").alias(\"Federal_Funding\"))\nz.show(groupedDf)"
    },
    {
      "cell_type": "code",
      "execution_count": 11,
      "metadata": {
        "autoscroll": "auto"
      },
      "outputs": [],
      "source": "var df \u003d spark.read.parquet(\"/user/yx3494_nyu_edu/scr_data/funding_safety_nrc_inexp.parquet\")\nval cols: List[String] \u003d List(\"N/RC_Index_Description\", \"N/RC_Index\")\ndf \u003d df.filter(df(\"N/RC_Index_Description\").isNotNull)\ndf \u003d df.withColumn(\"N/RC_Index\", \n    when(df(\"N/RC_Index\") \u003d\u003d\u003d 2, 1)\n    .when(df(\"N/RC_Index\") \u003d\u003d\u003d 3, 1)\n    .when(df(\"N/RC_Index\") \u003d\u003d\u003d 4, 1)\n    .when(df(\"N/RC_Index\") \u003d\u003d\u003d 5, 2)\n    .when(df(\"N/RC_Index\") \u003d\u003d\u003d 6, 2)\n   .otherwise(df(\"N/RC_Index\")))\n\ndf \u003d df.withColumn(\"N/RC_Index_Description\", \n    when(df(\"N/RC_Index\") \u003d\u003d\u003d 1, \"High (1-4)\")\n    .when(df(\"N/RC_Index\") \u003d\u003d\u003d 2, \"Low (5-6)\")\n   .otherwise(df(\"N/RC_Index\")))\n\ndf \u003d df.withColumn(\"County_Name\", \n    when(df(\"County_Name\") \u003d\u003d\u003d \"BRONX\", \"NYC\")\n    .when(df(\"County_Name\") \u003d\u003d\u003d \"BROOKLYN\", \"NYC\")\n    .when(df(\"County_Name\") \u003d\u003d\u003d \"NEW YORK\", \"NYC\")\n    .when(df(\"County_Name\") \u003d\u003d\u003d \"NYC CENTRAL OFFICE\", \"NYC\")\n    .when(df(\"County_Name\") \u003d\u003d\u003d \"RICHMOND\", \"NYC\")\n    .when(df(\"County_Name\") \u003d\u003d\u003d \"QUEENS\", \"NYC\")\n    .when(df(\"County_Name\") \u003d\u003d\u003d \"ALBANY\", \"ALBANY\")\n   .otherwise(df(\"County_Name\")))\n\ndf \u003d df.select(\n    \"School_BEDS_Code\",\n    \"Year\",\n    \"School_Name\",\n    \"County_Name\",\n    \"N/RC_Index\",\n    \"N/RC_Index_Description\",\n    \"Total_Enrollment\",\n    \"Total_Funding\",\n    \"Total_Funding_per_Pupil\",\n    \"Federal_Funding\",\n    \"Federal_Funding_per_Pupil\",\n    \"State_\u0026_Local_Funding\",\n    \"State_\u0026_Local_Funding_per_Pupil\",\n    \"Total_Teachers\",\n    \"Teacher_per_Pupil\",\n    \"Total_Staff\",\n    \"Staff_per_Pupil\"\n    )\n\nvar groupedDf \u003d df.groupBy(\"Year\", \"County_Name\").agg(avg(\"Total_Funding_per_Pupil\").alias(\"Total_Funding_per_Pupil\"))\nz.show(groupedDf)\n\n"
    }
  ]
}