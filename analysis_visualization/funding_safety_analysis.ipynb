﻿{
  "metadata": {
    "name": "funding_safety_analysis",
    "kernelspec": {
      "language": "scala",
      "name": "spark2-scala"
    },
    "language_info": {
      "codemirror_mode": "text/x-scala",
      "file_extension": ".scala",
      "mimetype": "text/x-scala",
      "name": "scala",
      "pygments_lexer": "scala"
    }
  },
  "nbformat": 4,
  "nbformat_minor": 2,
  "cells": [
    {
      "cell_type": "code",
      "execution_count": 0,
      "metadata": {
        "autoscroll": "auto"
      },
      "outputs": [],
      "source": "var df \u003d spark.read.parquet(\"/user/yx3494_nyu_edu/scr_data/funding_safety.parquet\")"
    },
    {
      "cell_type": "code",
      "execution_count": 1,
      "metadata": {
        "autoscroll": "auto"
      },
      "outputs": [],
      "source": "z.show(df.limit(10))\ndf.printSchema"
    },
    {
      "cell_type": "code",
      "execution_count": 2,
      "metadata": {
        "autoscroll": "auto"
      },
      "outputs": [],
      "source": "// add the total safety incidents column\ndf \u003d df\n.withColumn(\n  \"total_safety_incidents\",\n  coalesce(col(\"Homocide\"), lit(0)) +\n  coalesce(col(\"Sexual_Offense\"), lit(0)) +\n  coalesce(col(\"Assault\"), lit(0)) +\n  coalesce(col(\"Weapons_Possession\"), lit(0)) +\n  coalesce(col(\"Dignity_Act_Excluding_Cyberbullying\"), lit(0)) +\n  coalesce(col(\"Dignity_Act_Cyberbullying\"), lit(0)) +\n  coalesce(col(\"Bomb_Threat\"), lit(0)) +\n  coalesce(col(\"False_Alarm\"), lit(0)) +\n  coalesce(col(\"Drugs\"), lit(0)) +\n  coalesce(col(\"Alcohol\"), lit(0))\n)\n.withColumn(\n  \"incidents_per_student\",\n  col(\"total_safety_incidents\") / col(\"Total_Enrollment\")\n)\n"
    },
    {
      "cell_type": "markdown",
      "metadata": {},
      "source": "## Correlation Inspect"
    },
    {
      "cell_type": "markdown",
      "metadata": {},
      "source": "### Global Level"
    },
    {
      "cell_type": "code",
      "execution_count": 5,
      "metadata": {
        "autoscroll": "auto"
      },
      "outputs": [],
      "source": "val cols \u003d Array(\"total_safety_incidents\", \"Total_Enrollment\", \"Total_Teachers\", \"Total_Staff\", \"Total_Funding\", \"Staff_per_Pupil\", \"Total_Funding_per_Pupil\", \"incidents_per_student\")\nval global_correlations \u003d cols.flatMap { col1 \u003d\u003e\n  cols.filter(c \u003d\u003e c !\u003d col1).map { col2 \u003d\u003e\n    val _corr \u003d df.select(corr(col1, col2).alias(\"correlation\")).first().getAs[Double](0)\n    (col1, col2, _corr)\n  }\n}"
    },
    {
      "cell_type": "code",
      "execution_count": 6,
      "metadata": {
        "autoscroll": "auto"
      },
      "outputs": [],
      "source": "val corrDF \u003d global_correlations.map {\n  case (col1, col2, _corr) \u003d\u003e (col1, col2, if (_corr.isNaN) 0.0 else _corr)\n}.toSeq.toDF(\"info1\", \"info2\", \"correlation\")\n\nz.show(corrDF)"
    },
    {
      "cell_type": "markdown",
      "metadata": {},
      "source": "###  Country Level"
    },
    {
      "cell_type": "code",
      "execution_count": 8,
      "metadata": {
        "autoscroll": "auto"
      },
      "outputs": [],
      "source": "val countyMetrics \u003d df.groupBy(\"County_Name\")\n.agg(\n    avg(\"incidents_per_student\").alias(\"avg_incidents_per_student\"),\n    avg(\"Total_Funding_per_Pupil\").alias(\"avg_funding_per_student\"),\n    avg(\"Teacher_per_Pupil\").alias(\"avg_teacher_ratio\"),\n    avg(\"Staff_per_Pupil\").alias(\"avg_staff_ratio\"),\n    sum(\"Total_Enrollment\").alias(\"total_county_enrollment\"),\n    sum(\"total_safety_incidents\").alias(\"total_county_incidents\"),\n    count(\"School_BEDS_Code\").alias(\"total_county_schools\")\n)"
    },
    {
      "cell_type": "code",
      "execution_count": 9,
      "metadata": {
        "autoscroll": "auto"
      },
      "outputs": [],
      "source": "val columnsToCorrelate \u003d countyMetrics.drop(\"County_Name\").columns\nval correlations \u003d columnsToCorrelate.flatMap { col1 \u003d\u003e\n  columnsToCorrelate.filter(c \u003d\u003e c !\u003d col1).map { col2 \u003d\u003e\n    val _corr \u003d countyMetrics.select(corr(col1, col2).alias(\"correlation\")).first().getAs[Double](0)\n    (col1, col2, _corr)\n  }\n}"
    },
    {
      "cell_type": "code",
      "execution_count": 10,
      "metadata": {
        "autoscroll": "auto"
      },
      "outputs": [],
      "source": "countyMetrics.show()"
    },
    {
      "cell_type": "code",
      "execution_count": 11,
      "metadata": {
        "autoscroll": "auto"
      },
      "outputs": [],
      "source": "z.show(df)"
    },
    {
      "cell_type": "code",
      "execution_count": 12,
      "metadata": {
        "autoscroll": "auto"
      },
      "outputs": [],
      "source": "// create correlation df from previous map values\nval corrDF \u003d correlations.map {\n  case (col1, col2, _corr) \u003d\u003e (col1, col2, if (_corr.isNaN) 0.0 else _corr)\n}.toSeq.toDF(\"info1\", \"info2\", \"correlation\")\n\nz.show(corrDF)"
    },
    {
      "cell_type": "markdown",
      "metadata": {},
      "source": "## Linear Regression Prediction on incidents_per_student"
    },
    {
      "cell_type": "code",
      "execution_count": 14,
      "metadata": {
        "autoscroll": "auto"
      },
      "outputs": [],
      "source": "// Preprocessing for null values\nvar df_dropped \u003d df.withColumn(\"Total_Funding_per_Pupil\", col(\"Total_Funding_per_Pupil\").cast(\"double\"))\n                .withColumn(\"Staff_per_Pupil\", col(\"Staff_per_Pupil\").cast(\"double\"))\n                .withColumn(\"incidents_per_student\", col(\"incidents_per_student\").cast(\"double\"))\n\ndf_dropped \u003d df_dropped.na.drop(Seq(\"Total_Funding_per_Pupil\", \"Staff_per_Pupil\", \"incidents_per_student\"))"
    },
    {
      "cell_type": "code",
      "execution_count": 15,
      "metadata": {
        "autoscroll": "auto"
      },
      "outputs": [],
      "source": "// min-max normalization\nimport org.apache.spark.sql.functions._\n\nval stats \u003d df_dropped.agg(\n  min(col(\"incidents_per_student\")).alias(\"incidents_per_student_min\"),\n  max(col(\"incidents_per_student\")).alias(\"incidents_per_student_max\")\n).collect()(0)\n\nval incidents_min \u003d stats.getAs[Double](\"incidents_per_student_min\")\nval incidents_max \u003d stats.getAs[Double](\"incidents_per_student_max\")\n\nval df_normalized \u003d df_dropped\n  .withColumn(\"incidents_per_student_normalized\", \n    (col(\"incidents_per_student\").cast(\"double\") - lit(incidents_min)) / lit(incidents_max - incidents_min))"
    },
    {
      "cell_type": "code",
      "execution_count": 16,
      "metadata": {
        "autoscroll": "auto"
      },
      "outputs": [],
      "source": "z.show(df_normalized)"
    },
    {
      "cell_type": "code",
      "execution_count": 17,
      "metadata": {
        "autoscroll": "auto"
      },
      "outputs": [],
      "source": "// train test split\nval Array(trainDF, testDF) \u003d df_normalized.randomSplit(Array(.8, .2), seed\u003d42)\n\n// feature columns\nimport org.apache.spark.ml.feature.VectorAssembler\nimport org.apache.spark.ml.feature.{OneHotEncoder, StringIndexer}\n\nval categoricalCols \u003d Array(\"District_Name\", \"County_Name\")\nval indexOutputCols \u003d categoricalCols.map(_ + \"_index\")\nval oheOutputCols \u003d categoricalCols.map(_ + \"_OHE\")\n\nval stringIndexer \u003d new StringIndexer()\n  .setInputCols(categoricalCols)\n  .setOutputCols(indexOutputCols)\n  .setHandleInvalid(\"skip\")\n\nval oheEncoder \u003d new OneHotEncoder()\n  .setInputCols(indexOutputCols)\n  .setOutputCols(oheOutputCols)\n\nval numericCols \u003d Array(\"Total_Funding_per_Pupil\", \"Staff_per_Pupil\")\nval assemblerInputs \u003d oheOutputCols ++ numericCols\n\nval vecAssembler \u003d new VectorAssembler()\n  .setInputCols(assemblerInputs)\n  .setOutputCol(\"features\")\n  \n// linear regression\nimport org.apache.spark.ml.regression.LinearRegression\nval lr \u003d new LinearRegression()\n  .setLabelCol(\"incidents_per_student_normalized\")\n  .setFeaturesCol(\"features\")\n\n// prediction\nimport org.apache.spark.ml.Pipeline\nval pipeline \u003d new Pipeline()\n  .setStages(Array(stringIndexer, oheEncoder, vecAssembler, lr))\n\nval pipelineModel \u003d pipeline.fit(trainDF)\nval predDF \u003d pipelineModel.transform(testDF)\nz.show(predDF.select(\"features\", \"incidents_per_student_normalized\", \"prediction\"))"
    },
    {
      "cell_type": "code",
      "execution_count": 18,
      "metadata": {
        "autoscroll": "auto"
      },
      "outputs": [],
      "source": "import org.apache.spark.ml.evaluation.RegressionEvaluator\n\nval regressionEvaluator \u003d new RegressionEvaluator()\n  .setPredictionCol(\"prediction\")\n  .setLabelCol(\"incidents_per_student_normalized\")\n  .setMetricName(\"rmse\")\n\nval rmse \u003d regressionEvaluator.evaluate(predDF)\nprintln(f\"RMSE is $rmse%1.2f\")\n\nval r2 \u003d regressionEvaluator.setMetricName(\"r2\").evaluate(predDF)\nprintln(f\"R2 is $r2%1.2f\")"
    },
    {
      "cell_type": "markdown",
      "metadata": {},
      "source": "### Compute Incident Index \n\nHere we use (total incidetns count / enrolled students) as the index"
    },
    {
      "cell_type": "code",
      "execution_count": 20,
      "metadata": {
        "autoscroll": "auto"
      },
      "outputs": [],
      "source": "val schoolTypeAnalysis \u003d df\n.groupBy(\"School_Type\")\n.agg(\n    avg(\"total_safety_incidents\").alias(\"Incidents\"),\n    avg(\"Total_Funding_per_Pupil\").alias(\"Avg Funding\"),\n)"
    },
    {
      "cell_type": "code",
      "execution_count": 21,
      "metadata": {
        "autoscroll": "auto"
      },
      "outputs": [],
      "source": "z.show(schoolTypeAnalysis.orderBy(desc(\"Incidents\")))"
    },
    {
      "cell_type": "code",
      "execution_count": 22,
      "metadata": {
        "autoscroll": "auto"
      },
      "outputs": [],
      "source": "z.show(schoolTypeAnalysis.orderBy(desc(\"Avg Funding\")))"
    },
    {
      "cell_type": "markdown",
      "metadata": {},
      "source": "### Aera Analysis"
    },
    {
      "cell_type": "code",
      "execution_count": 24,
      "metadata": {
        "autoscroll": "auto"
      },
      "outputs": [],
      "source": "// areal analysis\nval countyTotalFundingAnaluysis \u003d df\n.groupBy(\"County_Name\")\n.agg(sum(\"Total_Funding\"), avg(\"Total_Funding_per_Pupil\"))"
    },
    {
      "cell_type": "code",
      "execution_count": 25,
      "metadata": {
        "autoscroll": "auto"
      },
      "outputs": [],
      "source": "z.show(countyTotalFundingAnaluysis.orderBy(desc(\"sum(Total_Funding)\")))"
    },
    {
      "cell_type": "code",
      "execution_count": 26,
      "metadata": {
        "autoscroll": "auto"
      },
      "outputs": [],
      "source": "z.show(countyTotalFundingAnaluysis.orderBy(desc(\"avg(Total_Funding_per_Pupil)\")))"
    },
    {
      "cell_type": "code",
      "execution_count": 27,
      "metadata": {
        "autoscroll": "auto"
      },
      "outputs": [],
      "source": "val countySafetyAnalysis \u003d df\n.groupBy(\"County_Name\")\n.agg(\n  avg(\"incidents_per_student\").alias(\"avg_incidents_per_student\"),\n  sum(\"total_safety_incidents\").alias(\"total_incidents\")\n)"
    },
    {
      "cell_type": "code",
      "execution_count": 28,
      "metadata": {
        "autoscroll": "auto"
      },
      "outputs": [],
      "source": "z.show(countySafetyAnalysis.orderBy(desc(\"avg_incidents_per_student\")))"
    },
    {
      "cell_type": "code",
      "execution_count": 29,
      "metadata": {
        "autoscroll": "auto"
      },
      "outputs": [],
      "source": "z.show(countySafetyAnalysis.orderBy(desc(\"total_incidents\")))"
    },
    {
      "cell_type": "markdown",
      "metadata": {},
      "source": "## Long Term Trend Analysis"
    },
    {
      "cell_type": "code",
      "execution_count": 31,
      "metadata": {
        "autoscroll": "auto"
      },
      "outputs": [],
      "source": "import org.apache.spark.sql.expressions.Window\nval windowBySchool \u003d Window.partitionBy(\"School_BEDS_Code\").orderBy(\"Year\")\nval schoolChanges \u003d df\n.withColumn(\"prev_incidents\", lag(\"incidents_per_student\", 1).over(windowBySchool).cast(\"int\"))\n.withColumn(\"prev_funding\", lag(\"Total_Funding_per_Pupil\", 1).over(windowBySchool).cast(\"double\"))\n.withColumn(\"incident_change\", (col(\"incidents_per_student\") - col(\"prev_incidents\").cast(\"int\")))\n.withColumn(\"funding_change\", (col(\"Total_Funding_per_Pupil\") - col(\"prev_funding\").cast(\"double\")))\n.withColumn(\"incident_change_pct\", when(col(\"prev_incidents\") \u003d\u003d\u003d 0, 0).otherwise(col(\"incident_change\") / col(\"prev_incidents\") * 100))\n.withColumn(\"funding_change_pct\",col(\"funding_change\") / col(\"prev_funding\") * 100)"
    },
    {
      "cell_type": "code",
      "execution_count": 32,
      "metadata": {
        "autoscroll": "auto"
      },
      "outputs": [],
      "source": "val overallChanges \u003d schoolChanges\n  .groupBy(\"School_BEDS_Code\", \"School_Name\", \"District_Name\", \"County_Name\")\n  .agg(\n    max(\"Year\").alias(\"last_year\"),\n    min(\"Year\").alias(\"first_year\"),\n    max(\"incidents_per_student\").alias(\"max_incidents\"),\n    min(\"incidents_per_student\").alias(\"min_incidents\"),\n    max(\"Total_Funding_per_Pupil\").alias(\"max_funding\"),\n    min(\"Total_Funding_per_Pupil\").alias(\"min_funding\"),\n    avg(\"incidents_per_student\").alias(\"avg_incidents\"),\n    avg(\"Total_Funding_per_Pupil\").alias(\"avg_funding\"),\n    sum(abs($\"incident_change\")).alias(\"total_incident_change\"),\n    sum(abs($\"funding_change\")).alias(\"total_funding_change\")\n  )"
    },
    {
      "cell_type": "code",
      "execution_count": 33,
      "metadata": {
        "autoscroll": "auto"
      },
      "outputs": [],
      "source": "val topIncidentChangeSchools \u003d overallChanges.orderBy(desc(\"total_incident_change\")).limit(10).select(\"School_Name\", \"District_Name\", \"County_Name\", \"total_incident_change\", \"total_funding_change\", \"avg_incidents\", \"avg_funding\")\nz.show(topIncidentChangeSchools)"
    },
    {
      "cell_type": "code",
      "execution_count": 34,
      "metadata": {
        "autoscroll": "auto"
      },
      "outputs": [],
      "source": "val topFundingChangeSchools \u003d overallChanges.orderBy(desc(\"total_funding_change\")).limit(10).select(\"School_Name\", \"District_Name\", \"County_Name\", \"total_incident_change\", \"total_funding_change\", \"avg_incidents\", \"avg_funding\")\nz.show(topFundingChangeSchools)"
    },
    {
      "cell_type": "code",
      "execution_count": 35,
      "metadata": {
        "autoscroll": "auto"
      },
      "outputs": [],
      "source": "val lowestIncidentSchools \u003d overallChanges\n.where(\"avg_incidents \u003e 0\")\n.orderBy(\"avg_incidents\")\n.select(\"School_Name\", \"District_Name\", \"County_Name\", \"avg_incidents\")\n\nz.show(lowestIncidentSchools.limit(20))"
    }
  ]
}