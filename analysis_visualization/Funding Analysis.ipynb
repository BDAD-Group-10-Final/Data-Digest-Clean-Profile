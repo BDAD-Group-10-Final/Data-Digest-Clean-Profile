{
 "cells": [
  {
   "cell_type": "code",
   "execution_count": 0,
   "metadata": {
    "autoscroll": "auto"
   },
   "outputs": [],
   "source": [
    "var df = spark.read.parquet(\"/user/yx3494_nyu_edu/scr_data/funding_safety_nrc.parquet\")\n",
    "val cols: List[String] = List(\"N/RC_Index_Description\", \"N/RC_Index\")\n",
    "df = df.filter(df(\"N/RC_Index_Description\").isNotNull)\n",
    "df = df.withColumn(\"N/RC_Index\", \n",
    "    when(df(\"N/RC_Index\") === 2, 1)\n",
    "    .when(df(\"N/RC_Index\") === 3, 1)\n",
    "    .when(df(\"N/RC_Index\") === 4, 1)\n",
    "    .when(df(\"N/RC_Index\") === 5, 2)\n",
    "    .when(df(\"N/RC_Index\") === 6, 2)\n",
    "   .otherwise(df(\"N/RC_Index\")))\n",
    "\n",
    "df = df.withColumn(\"N/RC_Index_Description\", \n",
    "    when(df(\"N/RC_Index\") === 1, \"High (1-4)\")\n",
    "    .when(df(\"N/RC_Index\") === 2, \"Low (5-6)\")\n",
    "   .otherwise(df(\"N/RC_Index\")))\n",
    "\n",
    "df = df.withColumn(\"County_Name\", \n",
    "    when(df(\"County_Name\") === \"BRONX\", \"NYC\")\n",
    "    .when(df(\"County_Name\") === \"BROOKLYN\", \"NYC\")\n",
    "    .when(df(\"County_Name\") === \"NEW YORK\", \"NYC\")\n",
    "    .when(df(\"County_Name\") === \"NYC CENTRAL OFFICE\", \"NYC\")\n",
    "    .when(df(\"County_Name\") === \"RICHMOND\", \"NYC\")\n",
    "    .when(df(\"County_Name\") === \"QUEENS\", \"NYC\")\n",
    "    .when(df(\"County_Name\") === \"ALBANY\", \"ALBANY\")\n",
    "   .otherwise(\"Non-NYC\"))\n",
    "\n",
    "df = df.select(\n",
    "    \"School_BEDS_Code\",\n",
    "    \"Year\",\n",
    "    \"School_Name\",\n",
    "    \"County_Name\",\n",
    "    \"N/RC_Index\",\n",
    "    \"N/RC_Index_Description\",\n",
    "    \"Total_Enrollment\",\n",
    "    \"Total_Funding\",\n",
    "    \"Total_Funding_per_Pupil\",\n",
    "    \"Federal_Funding\",\n",
    "    \"Federal_Funding_per_Pupil\",\n",
    "    \"State_&_Local_Funding\",\n",
    "    \"State_&_Local_Funding_per_Pupil\",\n",
    "    \"Total_Teachers\",\n",
    "    \"Teacher_per_Pupil\",\n",
    "    \"Total_Staff\",\n",
    "    \"Staff_per_Pupil\"\n",
    "    )\n",
    "\n",
    "df.printSchema\n",
    "z.show(df.groupBy(\"County_Name\").count)\n",
    "\n"
   ]
  },
  {
   "cell_type": "code",
   "execution_count": 1,
   "metadata": {
    "autoscroll": "auto"
   },
   "outputs": [],
   "source": [
    "var groupedDf = df.groupBy(\"N/RC_Index_Description\").agg(sum(\"Total_Enrollment\").alias(\"Total_Enrollment\"))\n",
    "z.show(groupedDf)\n"
   ]
  },
  {
   "cell_type": "code",
   "execution_count": 2,
   "metadata": {
    "autoscroll": "auto"
   },
   "outputs": [],
   "source": [
    "var groupedDf = df.groupBy(\"Year\", \"N/RC_Index_Description\").agg(avg(\"Total_Funding_per_Pupil\").alias(\"Total_Funding_per_Pupil\"), stddev(\"Total_Funding_per_Pupil\").alias(\"Stddev_Funding_per_Pupil\"))\n",
    "z.show(groupedDf)"
   ]
  },
  {
   "cell_type": "code",
   "execution_count": 3,
   "metadata": {
    "autoscroll": "auto"
   },
   "outputs": [],
   "source": [
    "var groupedDf = df.groupBy(\"Year\", \"N/RC_Index_Description\").agg(avg(\"Teacher_per_Pupil\").alias(\"Teacher_per_Pupil\"), stddev(\"Teacher_per_Pupil\").alias(\"Stddev_Teacher_per_Pupil\"))\n",
    "z.show(groupedDf)"
   ]
  },
  {
   "cell_type": "code",
   "execution_count": 4,
   "metadata": {
    "autoscroll": "auto"
   },
   "outputs": [],
   "source": [
    "var groupedDf = df.groupBy(\"Year\", \"N/RC_Index_Description\").agg(avg(\"Staff_per_Pupil\").alias(\"Staff_per_Pupil\"))\n",
    "z.show(groupedDf)"
   ]
  },
  {
   "cell_type": "code",
   "execution_count": 5,
   "metadata": {
    "autoscroll": "auto"
   },
   "outputs": [],
   "source": [
    "var groupedDf = df.groupBy(\"Year\", \"County_Name\").agg(avg(\"Total_Funding\").alias(\"Total_Funding\"))\n",
    "z.show(groupedDf)"
   ]
  },
  {
   "cell_type": "code",
   "execution_count": 6,
   "metadata": {
    "autoscroll": "auto"
   },
   "outputs": [],
   "source": [
    "var groupedDf = df.groupBy(\"Year\", \"County_Name\").agg(avg(\"Total_Enrollment\").alias(\"Total_Enrollment\"))\n",
    "z.show(groupedDf)"
   ]
  },
  {
   "cell_type": "code",
   "execution_count": 7,
   "metadata": {
    "autoscroll": "auto"
   },
   "outputs": [],
   "source": [
    "var groupedDf = df.groupBy(\"Year\", \"County_Name\").agg(avg(\"Total_Funding_per_Pupil\").alias(\"Total_Funding_per_Pupil\"))\n",
    "z.show(groupedDf)"
   ]
  },
  {
   "cell_type": "code",
   "execution_count": 8,
   "metadata": {
    "autoscroll": "auto"
   },
   "outputs": [],
   "source": [
    "var groupedDf = df.groupBy(\"Year\").agg(avg(\"Total_Funding\").alias(\"Total_Funding\"))\n",
    "z.show(groupedDf)"
   ]
  },
  {
   "cell_type": "code",
   "execution_count": 9,
   "metadata": {
    "autoscroll": "auto"
   },
   "outputs": [],
   "source": [
    "var groupedDf = df.groupBy(\"Year\").agg(avg(\"Total_Funding_per_Pupil\").alias(\"Total_Funding_per_Pupil\"))\n",
    "z.show(groupedDf)"
   ]
  },
  {
   "cell_type": "code",
   "execution_count": 10,
   "metadata": {
    "autoscroll": "auto"
   },
   "outputs": [],
   "source": [
    "var groupedDf = df.groupBy(\"Year\").agg(avg(\"State_&_Local_Funding\").alias(\"State_&_Local_Funding\"), avg(\"Federal_Funding\").alias(\"Federal_Funding\"))\n",
    "z.show(groupedDf)"
   ]
  },
  {
   "cell_type": "code",
   "execution_count": null,
   "metadata": {
    "autoscroll": "auto"
   },
   "outputs": [],
   "source": [
    "var df = spark.read.parquet(\"/user/yx3494_nyu_edu/scr_data/funding_safety_nrc.parquet\")\n",
    "val cols: List[String] = List(\"N/RC_Index_Description\", \"N/RC_Index\")\n",
    "df = df.filter(df(\"N/RC_Index_Description\").isNotNull)\n",
    "df = df.withColumn(\"N/RC_Index\", \n",
    "    when(df(\"N/RC_Index\") === 2, 1)\n",
    "    .when(df(\"N/RC_Index\") === 3, 1)\n",
    "    .when(df(\"N/RC_Index\") === 4, 1)\n",
    "    .when(df(\"N/RC_Index\") === 5, 2)\n",
    "    .when(df(\"N/RC_Index\") === 6, 2)\n",
    "   .otherwise(df(\"N/RC_Index\")))\n",
    "\n",
    "df = df.withColumn(\"N/RC_Index_Description\", \n",
    "    when(df(\"N/RC_Index\") === 1, \"High (1-4)\")\n",
    "    .when(df(\"N/RC_Index\") === 2, \"Low (5-6)\")\n",
    "   .otherwise(df(\"N/RC_Index\")))\n",
    "\n",
    "df = df.withColumn(\"County_Name\", \n",
    "    when(df(\"County_Name\") === \"BRONX\", \"NYC\")\n",
    "    .when(df(\"County_Name\") === \"BROOKLYN\", \"NYC\")\n",
    "    .when(df(\"County_Name\") === \"NEW YORK\", \"NYC\")\n",
    "    .when(df(\"County_Name\") === \"NYC CENTRAL OFFICE\", \"NYC\")\n",
    "    .when(df(\"County_Name\") === \"RICHMOND\", \"NYC\")\n",
    "    .when(df(\"County_Name\") === \"QUEENS\", \"NYC\")\n",
    "    .when(df(\"County_Name\") === \"ALBANY\", \"ALBANY\")\n",
    "   .otherwise(df(\"County_Name\")))\n",
    "\n",
    "df = df.select(\n",
    "    \"School_BEDS_Code\",\n",
    "    \"Year\",\n",
    "    \"School_Name\",\n",
    "    \"County_Name\",\n",
    "    \"N/RC_Index\",\n",
    "    \"N/RC_Index_Description\",\n",
    "    \"Total_Enrollment\",\n",
    "    \"Total_Funding\",\n",
    "    \"Total_Funding_per_Pupil\",\n",
    "    \"Federal_Funding\",\n",
    "    \"Federal_Funding_per_Pupil\",\n",
    "    \"State_&_Local_Funding\",\n",
    "    \"State_&_Local_Funding_per_Pupil\",\n",
    "    \"Total_Teachers\",\n",
    "    \"Teacher_per_Pupil\",\n",
    "    \"Total_Staff\",\n",
    "    \"Staff_per_Pupil\"\n",
    "    )\n",
    "\n",
    "var groupedDf = df.groupBy(\"Year\", \"County_Name\").agg(avg(\"Total_Funding_per_Pupil\").alias(\"Total_Funding_per_Pupil\"))\n",
    "z.show(groupedDf)\n",
    "\n"
   ]
  }
 ],
 "metadata": {
  "kernelspec": {
   "language": "scala",
   "name": "spark2-scala"
  },
  "language_info": {
   "codemirror_mode": "text/x-scala",
   "file_extension": ".scala",
   "mimetype": "text/x-scala",
   "name": "scala",
   "pygments_lexer": "scala"
  },
  "name": "Funding Analysis"
 },
 "nbformat": 4,
 "nbformat_minor": 2
}
