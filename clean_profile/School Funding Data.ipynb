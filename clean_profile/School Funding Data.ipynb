﻿{
  "metadata": {
    "name": "School Funding Data",
    "kernelspec": {
      "language": "scala",
      "name": "spark2-scala"
    },
    "language_info": {
      "codemirror_mode": "text/x-scala",
      "file_extension": ".scala",
      "mimetype": "text/x-scala",
      "name": "scala",
      "pygments_lexer": "scala"
    }
  },
  "nbformat": 4,
  "nbformat_minor": 2,
  "cells": [
    {
      "cell_type": "code",
      "execution_count": 0,
      "metadata": {
        "autoscroll": "auto"
      },
      "outputs": [],
      "source": "val root_folder \u003d \"/user/yl12043_nyu_edu/schools-funding/\"\nvar totalyears \u003d 2017 to 2022\nvar newformatyears \u003d 2019 to 2022\nval prefixes: List[String] \u003d List(\"B\", \"C\", \"D\", \"E\")\nval colNames: List[String] \u003d List(\"K-12 Enrollment\", \"Pre-K Enrollment\", \"Classroom Teachers w/ 0-3 Years Experience\", \"Classroom Teachers w/ More than 3 Years Experience\", \"Paraprofessional Classroom Staff\", \"Principals \u0026 Other Admin Staff\", \"Pupil Support Services Staff\", \"All Remaining Staff\", \"Total Staff\", \"Classroom Teacher Salaries\", \"All Other Salaries\", \"Employee Benefits\", \"BOCES Services\", \"All Other\", \"General Ed K-12\", \"Pre-K\", \"Preschool\", \"School Administration\", \"Instructional Media\", \"Pupil Support Services\", \"State \u0026 Local Funding\", \"Federal Funding\", \"Total Funding Source by School\", \"State \u0026 Local Funding per Pupil\", \"Federal Funding per Pupil\", \"Total School Funding per Pupil\")\nval outputpathstart \u003d \"schools-funding/\"\nval outputpathend \u003d \"-schools-funding-clean.parquet\"\n\nfor (cur \u003c- totalyears){\n    val next \u003d cur + 1\n    \n    var originalDf \u003d spark.read.option(\"header\", \"true\")\n        .option(\"multiLine\", \"true\")\n        .option(\"inferSchema\", \"true\")\n        .option(\"escape\", \"\\\"\")\n        .csv(root_folder + cur + \"-\" + next + \"-schools-funding.csv\")\n    \n    \n    if (newformatyears.contains(cur)) {\n        val trimmedDf \u003d originalDf.withColumnRenamed(\"(Part D) All Other\", \"Other\").withColumnRenamed(\"(Part D) All Other\", \"F1\").withColumnRenamed(\"(Part D) Federal Funding\", \"F2\")\n        originalDf \u003d trimmedDf\n        for (p \u003c- prefixes){\n            var prefix \u003d \"(Part \" + p + \") \"\n            val renamedDf \u003d originalDf.columns.foldLeft(originalDf) { (df, c) \u003d\u003e\n                if (c.startsWith(prefix)) df.withColumnRenamed(c, c.substring(prefix.length, c.length)) else df}\n            originalDf \u003d renamedDf\n        }\n    }\n    else {\n        val prefix \u003d \" \"\n        val removespaceDf \u003d originalDf.withColumnRenamed(\" All Other  \", \"Other\").withColumnRenamed(\" Federal Funding  \", \"F1\").withColumnRenamed(\" Federal Funding   \", \"F2\").columns.foldLeft(originalDf) { (df, c) \u003d\u003e\n            df.withColumnRenamed(c, c.trim())}\n        val renamedDf \u003d removespaceDf.withColumnRenamed(\"BEDS Code\", \"School BEDS Code\").withColumnRenamed(\"Classroom Teachers\", \"Classroom Teacher Salaries\").withColumnRenamed(\"Grades K-12\", \"General Ed K-12\")\n        val cleanedDf \u003d renamedDf.filter($\"School BEDS Code\" \u003d!\u003d \"(blank)\")\n        originalDf \u003d cleanedDf\n    }\n    \n    originalDf \u003d originalDf.filter($\"School BEDS Code\".isNotNull)\n\n    var filteredDf \u003d originalDf.select(\n        \"School Year\",\n        \"School District\",\n        \"School BEDS Code\",\n        \"School Name\",\n        \"School Type\",\n        \"K-12 Enrollment\",\n        \"Pre-K Enrollment\",\n        \"Classroom Teachers w/ 0-3 Years Experience\",\n        \"Classroom Teachers w/ More than 3 Years Experience\",\n        \"Paraprofessional Classroom Staff\",\n        \"Principals \u0026 Other Admin Staff\",\n        \"Pupil Support Services Staff\",\n        \"All Remaining Staff\",\n        \"Total Staff\",\n        \"Classroom Teacher Salaries\",\n        \"All Other Salaries\",\n        \"Employee Benefits\",\n        \"BOCES Services\",\n        \"All Other\",\n        \"General Ed K-12\",\n        \"Pre-K\",\n        \"Preschool\",\n        \"School Administration\",\n        \"Instructional Media\",\n        \"Pupil Support Services\",\n        \"State \u0026 Local Funding\",\n        \"Federal Funding\",\n        \"Total Funding Source by School\",\n        \"State \u0026 Local Funding per Pupil\",\n        \"Federal Funding per Pupil\",\n        \"Total School Funding per Pupil\")\n    \n    for (c \u003c- colNames) {\n        filteredDf \u003d filteredDf.withColumn(c, regexp_replace(filteredDf(c), \"\\\\,\", \"\"))\n        filteredDf \u003d filteredDf.withColumn(c, trim(filteredDf(c)))\n        filteredDf \u003d filteredDf.withColumn(c, regexp_replace(filteredDf(c), \"-\", \"\"))\n        filteredDf \u003d filteredDf.withColumn(c, regexp_replace(filteredDf(c), \" \", \"\"))\n        filteredDf \u003d filteredDf.withColumn(c, when(col(c) \u003d!\u003d \"\", col(c)).otherwise(0))\n        filteredDf \u003d filteredDf.withColumn(c, col(c).cast(\"decimal(20,2)\"))\n    }\n    filteredDf.na.fill(0)\n    \n    filteredDf \u003d filteredDf.withColumn(\"Total Enrollment\", filteredDf(\"K-12 Enrollment\") + filteredDf(\"Pre-K\"))\n    filteredDf \u003d filteredDf.withColumn(\"Total Teachers\", filteredDf(\"Classroom Teachers w/ 0-3 Years Experience\") + filteredDf(\"Classroom Teachers w/ More than 3 Years Experience\"))\n    filteredDf \u003d filteredDf.withColumn(\"Teacher per Pupil\", (filteredDf(\"Total Teachers\") / filteredDf(\"Classroom Teachers w/ More than 3 Years Experience\")).cast(\"decimal(20,2)\"))\n    filteredDf \u003d filteredDf.withColumn(\"Staff per Pupil\", (filteredDf(\"Total Staff\") / filteredDf(\"Classroom Teachers w/ More than 3 Years Experience\")).cast(\"decimal(20,2)\"))\n    \n    /*\n    filteredDf.printSchema\n    z.show(filteredDf.limit(5))\n    */\n    z.show(filteredDf.summary())\n    \n    \n    val outputpath \u003d outputpathstart + cur + \"-\" + next + outputpathend\n    filteredDf.write.mode(\"overwrite\").parquet(outputpath)\n}"
    },
    {
      "cell_type": "code",
      "execution_count": 1,
      "metadata": {
        "autoscroll": "auto"
      },
      "outputs": [],
      "source": "var totalDf \u003d spark.read.parquet(\"schools-funding/2017-2018-schools-funding-clean.parquet\")\nval years \u003d 2018 to 2022\nfor (cur \u003c- years){\n    val next \u003d cur + 1\n    val readPath \u003d outputpathstart + cur + \"-\" + next + outputpathend\n    val df \u003d spark.read.parquet(readPath)\n    totalDf \u003d totalDf.union(df)\n}\ntotalDf.printSchema\nz.show(totalDf.limit(5))\ntotalDf.write.mode(\"overwrite\").parquet(\"schools-funding/2017-2023-schools-funding-clean.parquet\")"
    },
    {
      "cell_type": "code",
      "execution_count": 2,
      "metadata": {
        "autoscroll": "auto"
      },
      "outputs": [],
      "source": "Total Means \u0026 Standard Deviations"
    },
    {
      "cell_type": "code",
      "execution_count": 3,
      "metadata": {
        "autoscroll": "auto"
      },
      "outputs": [],
      "source": "var df \u003d spark.read.parquet(\"schools-funding/2017-2023-schools-funding-clean.parquet\")\n\nval TotalFunding \u003d df.groupBy(\"School Year\").agg(mean(\"Total Funding Source by School\").cast(\"decimal(20,2)\").alias(\"Average Total Funding\"),\n                                                    stddev(\"Total Funding Source by School\").cast(\"decimal(20,2)\").alias(\"Standard Deviation Total Funding\"))\nval PupilTotalFunding \u003d df.groupBy(\"School Year\").agg(mean(\"Total School Funding per Pupil\").cast(\"decimal(20,2)\").alias(\"Average Total Funding per Pupil\"),\n                                                    stddev(\"Total School Funding per Pupil\").cast(\"decimal(20,2)\").alias(\"Standard Deviation Total Funding per Pupil\"))\nval TotalStaff \u003d df.groupBy(\"School Year\").agg(mean(\"Total Staff\").cast(\"decimal(20,2)\").alias(\"Average Total Staff\"),\n                                                    stddev(\"Total Staff\").cast(\"decimal(20,2)\").alias(\"Standard Deviation Total Staff\"))\nval StateLocalFunding \u003d df.groupBy(\"School Year\").agg(mean(\"State \u0026 Local Funding\").cast(\"decimal(20,2)\").alias(\"Average State \u0026 Local Funding\"),\n                                                    stddev(\"State \u0026 Local Funding\").cast(\"decimal(20,2)\").alias(\"Standard Deviation State \u0026 Local Funding\"))\nval PupilStateLocalFunding \u003d df.groupBy(\"School Year\").agg(mean(\"State \u0026 Local Funding per Pupil\").cast(\"decimal(20,2)\").alias(\"Average State \u0026 Local Funding per Pupil\"),\n                                                    stddev(\"State \u0026 Local Funding per Pupil\").cast(\"decimal(20,2)\").alias(\"Standard Deviation State \u0026 Local Funding per Pupil\"))\nval FederalFunding \u003d df.groupBy(\"School Year\").agg(mean(\"Federal Funding\").cast(\"decimal(20,2)\").alias(\"Average Federal Funding\"),\n                                                    stddev(\"Federal Funding\").cast(\"decimal(20,2)\").alias(\"Standard Deviation Federal Funding\"))\nval PupilFederalFunding \u003d df.groupBy(\"School Year\").agg(mean(\"Federal Funding per Pupil\").cast(\"decimal(20,2)\").alias(\"Average Federal Funding per Pupil\"),\n                                                    stddev(\"Federal Funding per Pupil\").cast(\"decimal(20,2)\").alias(\"Standard Deviation Federal Funding per Pupil\"))\nval TotalEnrollment \u003d df.groupBy(\"School Year\").agg(mean(\"Total Enrollment\").cast(\"decimal(20,2)\").alias(\"Average Total Enrollment\"),\n                                                    stddev(\"Total Enrollment\").cast(\"decimal(20,2)\").alias(\"Standard Deviation Total Enrollment\"))\nval TeacherPerPupil \u003d df.groupBy(\"School Year\").agg(mean(\"Teacher per Pupil\").cast(\"decimal(20,2)\").alias(\"Average Teacher per Pupil\"),\n                                                    stddev(\"Teacher per Pupil\").cast(\"decimal(20,2)\").alias(\"Standard Deviation Teacher per Pupil\"))\nval StaffPerPupil \u003d df.groupBy(\"School Year\").agg(mean(\"Staff per Pupil\").cast(\"decimal(20,2)\").alias(\"Average Staff per Pupil\"),\n                                                    stddev(\"Staff per Pupil\").cast(\"decimal(20,2)\").alias(\"Standard Deviation Staff per Pupil\"))\nz.show(TotalFunding)\nz.show(PupilTotalFunding)\nz.show(TotalStaff)\nz.show(StateLocalFunding)\nz.show(PupilStateLocalFunding)\nz.show(FederalFunding)\nz.show(PupilFederalFunding)\nz.show(TotalEnrollment)\nz.show(TeacherPerPupil)\nz.show(StaffPerPupil)"
    },
    {
      "cell_type": "code",
      "execution_count": 4,
      "metadata": {
        "autoscroll": "auto"
      },
      "outputs": [],
      "source": "val schoolCodeTypeDf \u003d df.dropDuplicates(\"School BEDS Code\").select(\"School District\", \"School BEDS Code\", \"School Name\", \"School Type\")\nz.show(schoolCodeTypeDf.limit(5))"
    }
  ]
}