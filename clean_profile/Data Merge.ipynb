﻿{
  "metadata": {
    "name": "Data Merge",
    "kernelspec": {
      "language": "scala",
      "name": "spark2-scala"
    },
    "language_info": {
      "codemirror_mode": "text/x-scala",
      "file_extension": ".scala",
      "mimetype": "text/x-scala",
      "name": "scala",
      "pygments_lexer": "scala"
    }
  },
  "nbformat": 4,
  "nbformat_minor": 2,
  "cells": [
    {
      "cell_type": "markdown",
      "metadata": {},
      "source": "## Data Merge and validation\n\nHere we will check and join the cleaned data from 3 sources and then for analysis."
    },
    {
      "cell_type": "code",
      "execution_count": 1,
      "metadata": {
        "autoscroll": "auto"
      },
      "outputs": [],
      "source": "// define the project root\nimport org.apache.spark.sql.DataFrame\n\nvar grad_rate_data \u003d spark.read.parquet(\"scr_data/grad_rate_cleaned.parquet\")\nvar nrc_data \u003d spark.read.parquet(\"scr_data/nrc_cleaned.parquet\")\nvar safety_data \u003d spark.read.parquet(\"BDAD10/safety_dataset.parquet\")\nvar funding_data \u003d spark.read.parquet(\"BDAD10/2018-2023-schools-funding-processed.parquet\")"
    },
    {
      "cell_type": "markdown",
      "metadata": {},
      "source": "### NR/C Data Validation"
    },
    {
      "cell_type": "code",
      "execution_count": 3,
      "metadata": {
        "autoscroll": "auto"
      },
      "outputs": [],
      "source": "nrc_data.printSchema()\nz.show(nrc_data.limit(5))\nz.show(nrc_data.groupBy(\"Year\").count().orderBy(\"Year\"))"
    },
    {
      "cell_type": "markdown",
      "metadata": {},
      "source": "### Safety Data Validation"
    },
    {
      "cell_type": "code",
      "execution_count": 5,
      "metadata": {
        "autoscroll": "auto"
      },
      "outputs": [],
      "source": "// pre safety datasets\nsafety_data.printSchema()\nz.show(safety_data.limit(5))\nz.show(safety_data.groupBy(\"Year\").count().orderBy(\"Year\"))"
    },
    {
      "cell_type": "markdown",
      "metadata": {},
      "source": "Fix the `School_BEDS_Code` type to string"
    },
    {
      "cell_type": "code",
      "execution_count": 7,
      "metadata": {
        "autoscroll": "auto"
      },
      "outputs": [],
      "source": "// convert the School_BEDS_Code to string type in the safety data\nsafety_data \u003d safety_data.withColumn(\"School_BEDS_Code\", safety_data(\"School_BEDS_Code\").cast(\"string\"))\nsafety_data.printSchema()"
    },
    {
      "cell_type": "markdown",
      "metadata": {},
      "source": "### Funding Data Validation"
    },
    {
      "cell_type": "code",
      "execution_count": 9,
      "metadata": {
        "autoscroll": "auto"
      },
      "outputs": [],
      "source": "// funding dataset\nfunding_data.printSchema()\nz.show(funding_data.limit(5))\nz.show(funding_data.groupBy(\"Year\").count().orderBy(\"Year\"))"
    },
    {
      "cell_type": "markdown",
      "metadata": {},
      "source": "### Graduate Rate Validation"
    },
    {
      "cell_type": "code",
      "execution_count": 11,
      "metadata": {
        "autoscroll": "auto"
      },
      "outputs": [],
      "source": "// pre safety datasets\ngrad_rate_data.printSchema()\nz.show(grad_rate_data.limit(5))\nz.show(grad_rate_data.groupBy(\"Year\").count().orderBy(\"Year\"))"
    },
    {
      "cell_type": "code",
      "execution_count": 12,
      "metadata": {
        "autoscroll": "auto"
      },
      "outputs": [],
      "source": "val checkDf \u003d grad_rate_data.join(funding_data, Seq(\"School_BEDS_Code\", \"Year\"), \"right\")"
    },
    {
      "cell_type": "code",
      "execution_count": 13,
      "metadata": {
        "autoscroll": "auto"
      },
      "outputs": [],
      "source": "z.show(checkDf.filter(\"Graduation_Rate is not null\").groupBy(\"Year\").count())"
    },
    {
      "cell_type": "code",
      "execution_count": 14,
      "metadata": {
        "autoscroll": "auto"
      },
      "outputs": [],
      "source": "z.show(checkDf.filter(\"Graduation_Rate is not null\").groupBy(\"School_Type\").count())"
    },
    {
      "cell_type": "markdown",
      "metadata": {},
      "source": "## Global Reference Table\n\nThis table will have all the list of school with name, id, district id, district name and school type"
    },
    {
      "cell_type": "code",
      "execution_count": 16,
      "metadata": {
        "autoscroll": "auto"
      },
      "outputs": [],
      "source": "// define global ref table\nval refDf \u003d funding_data.select(\"School_BEDS_Code\", \"District_BEDS_Code\", \"School_Type\")\n// join the safety data with the ref table\n.join(safety_data.select(\"District_Name\", \"School_BEDS_Code\", \"County_Name\", \"School_Name\"), Seq(\"School_BEDS_Code\"), \"inner\")\n// drop duplicate cols\n.dropDuplicates(\"School_BEDS_Code\")\nz.show(refDf.limit(10))\nrefDf.count"
    },
    {
      "cell_type": "markdown",
      "metadata": {},
      "source": "## Merge the funding + safety data"
    },
    {
      "cell_type": "code",
      "execution_count": 18,
      "metadata": {
        "autoscroll": "auto"
      },
      "outputs": [],
      "source": "// all funding, safety and nrc and inexp data\nval funding_safety_df \u003d safety_data.join(funding_data, Seq(\"School_BEDS_Code\", \"Year\"), \"inner\")"
    },
    {
      "cell_type": "code",
      "execution_count": 19,
      "metadata": {
        "autoscroll": "auto"
      },
      "outputs": [],
      "source": "funding_safety_df.printSchema()\nz.show(funding_safety_df.limit(5))\nz.show(funding_safety_df.groupBy(\"Year\").count().orderBy(\"Year\"))\nfunding_safety_df.count()\nfunding_safety_df.write.mode(\"overwrite\").parquet(\"scr_data/funding_safety.parquet\")"
    },
    {
      "cell_type": "markdown",
      "metadata": {},
      "source": "## Merge the all the dataset except the graduation rate data to a combined dataframe"
    },
    {
      "cell_type": "code",
      "execution_count": 21,
      "metadata": {
        "autoscroll": "auto"
      },
      "outputs": [],
      "source": "// all funding, safety and nrc and inexp data\nval funding_safety_nrc_df \u003d safety_data\n.join(nrc_data.drop(\"School_Name\", \"Total_Teachers\"), Seq(\"School_BEDS_Code\", \"Year\"), \"inner\")\n.join(funding_data, Seq(\"School_BEDS_Code\", \"Year\"), \"inner\")\n\nfunding_safety_nrc_df.write.mode(\"overwrite\").parquet(\"scr_data/funding_safety_nrc.parquet\")"
    },
    {
      "cell_type": "code",
      "execution_count": 22,
      "metadata": {
        "autoscroll": "auto"
      },
      "outputs": [],
      "source": "funding_safety_nrc_df.printSchema()\nz.show(funding_safety_nrc_df.limit(5))\nz.show(funding_safety_nrc_df.groupBy(\"Year\").count().orderBy(\"Year\"))\nfunding_safety_nrc_df.count()"
    },
    {
      "cell_type": "markdown",
      "metadata": {},
      "source": "## Merge the all the dataset\n\nThis dataset is for the analysis of the High School Performance becuase the graduation rate is only available for High school."
    },
    {
      "cell_type": "code",
      "execution_count": 24,
      "metadata": {
        "autoscroll": "auto"
      },
      "outputs": [],
      "source": "// merge the grad rate data with the all other data\nval full_data_df \u003d grad_rate_data.join(funding_safety_nrc_df.drop(\"School_Name\"), Seq(\"School_BEDS_Code\", \"Year\"), \"inner\")\nfull_data_df.write.mode(\"overwrite\").parquet(\"scr_data/funding_safety_nrc_gradRate.parquet\")"
    },
    {
      "cell_type": "code",
      "execution_count": 25,
      "metadata": {
        "autoscroll": "auto"
      },
      "outputs": [],
      "source": "full_data_df.printSchema()\nz.show(full_data_df.limit(5))\nz.show(full_data_df.groupBy(\"Year\").count().orderBy(\"Year\"))\nfull_data_df.count()"
    },
    {
      "cell_type": "markdown",
      "metadata": {},
      "source": "## Update the funding table with the the global ref table to get full school info"
    },
    {
      "cell_type": "code",
      "execution_count": 27,
      "metadata": {
        "autoscroll": "auto"
      },
      "outputs": [],
      "source": "// funding remap with global\nval funding_refactor_df \u003d funding_data\n.join(refDf, Seq(\"School_BEDS_Code\", \"District_BEDS_Code\", \"School_Type\"), \"left\")\n.join(nrc_data.drop(\"School_Name\", \"Total_Teachers\"), Seq(\"School_BEDS_Code\", \"Year\"), \"inner\")\n\nz.show(funding_refactor_df.limit(10))\nfunding_refactor_df.printSchema()\n\n// count by years\nz.show(funding_refactor_df.groupBy(\"Year\").count().orderBy(\"Year\"))\n\nval count_1 \u003d funding_data.count\nval count_2 \u003d funding_refactor_df.count\nprintln(s\"Count 1: $count_1, Count 2: $count_2, Diff: ${count_1 - count_2}\")\n\n// save the data\nfunding_refactor_df.write.mode(\"overwrite\").parquet(\"scr_data/funding_refact.parquet\")"
    }
  ]
}